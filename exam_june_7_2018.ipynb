{
 "cells": [
  {
   "cell_type": "markdown",
   "metadata": {},
   "source": [
    "Before you turn this problem in, make sure everything runs as expected. First, **restart the kernel** (in the menubar, select Kernel$\\rightarrow$Restart) and then **run all cells** (in the menubar, select Cell$\\rightarrow$Run All).\n",
    "\n",
    "Make sure you fill in any place that says `YOUR CODE HERE` or \"YOUR ANSWER HERE\", as well as your name and collaborators below:"
   ]
  },
  {
   "cell_type": "code",
   "execution_count": 13,
   "metadata": {},
   "outputs": [],
   "source": [
    "NAME = \"Chris Kiewit #u198094# #2010702#\"\n",
    "COLLABORATORS = \"\""
   ]
  },
  {
   "cell_type": "markdown",
   "metadata": {},
   "source": [
    "---"
   ]
  },
  {
   "cell_type": "markdown",
   "metadata": {},
   "source": [
    "Fill in the cell above to provide us with your name and student number, like\n",
    "\n",
    "NAME = \"Adam Smith, #student number#\"\n",
    "\n",
    "where you replace \"#student number#\" with your ... (very good!)\n",
    "\n",
    "and if you are doing this with someone else (not more than one other person):\n",
    "\n",
    "COLLABORATORS = \"Karl Marx, #student number#\""
   ]
  },
  {
   "cell_type": "markdown",
   "metadata": {
    "deletable": false,
    "editable": false,
    "nbgrader": {
     "checksum": "a7ae5c69becf064d614c6c38935eca51",
     "grade": false,
     "grade_id": "cell-895e9a7b94992ec9",
     "locked": true,
     "schema_version": 1,
     "solution": false
    }
   },
   "source": [
    "# exam June 7th, 2018\n"
   ]
  },
  {
   "cell_type": "markdown",
   "metadata": {
    "deletable": false,
    "editable": false,
    "nbgrader": {
     "checksum": "bc48d165f54aa364aa34509649fcdef5",
     "grade": false,
     "grade_id": "cell-540987818af25557",
     "locked": true,
     "schema_version": 1,
     "solution": false
    }
   },
   "source": [
    "\n",
    "In the first cell of the notebook, give us your name and student number in the way indicated above. If you do this notebook with --at max.-- one other student, give her/his name and student number as well under \"COLLABORATORS\".\n",
    "\n",
    "Fill in the notebook (see below for code cells and text cells that you need to fill in).\n",
    "\n",
    "If you look at the menus above (File, Edit, View etc.), there is one called \"Cell\". If you click on this, you can change the \"Cell Type\". Choose \"Code\" when you are typing python or R code. Choose \"Markdown\" when you are typing, well, markdown.\n",
    "\n",
    "When you finish the notebook, make sure that you **save it with the output of your code included**. \n",
    "\n",
    "Then put it on github, e.g. by dragging it onto github (see instructions below). \n",
    "\n",
    "Finally, add a link to your README file with the name of this exam: \"Exam June 7, 2018\".\n",
    "\n"
   ]
  },
  {
   "cell_type": "markdown",
   "metadata": {
    "deletable": false,
    "editable": false,
    "nbgrader": {
     "checksum": "6fad9bed312da1b0097e9c520b18e3fb",
     "grade": false,
     "grade_id": "cell-e1cf88cb799f1f43",
     "locked": true,
     "schema_version": 1,
     "solution": false
    }
   },
   "source": [
    "## price effects of mergers\n",
    "\n",
    "We consider a merger in this notebook. \n",
    "\n",
    "First we calculate the equilibrium with three firms, denoted by 1, 2 and 3. Then firms 2 and 3 merge so that we are left with 2 firms; denoted by 1 and 2.\n",
    "\n",
    "We calculate the effects of the merger on the equilibrium price.\n",
    "\n",
    "We start by importing the usual libraries."
   ]
  },
  {
   "cell_type": "code",
   "execution_count": 2,
   "metadata": {
    "deletable": false,
    "editable": false,
    "nbgrader": {
     "checksum": "7bd770ef54db47c3b6c8d0e31f6baef6",
     "grade": false,
     "grade_id": "cell-b895769bf40e183a",
     "locked": true,
     "schema_version": 1,
     "solution": false
    }
   },
   "outputs": [],
   "source": [
    "import matplotlib.pyplot as plt\n",
    "import pandas as pd\n",
    "import numpy as np\n",
    "from scipy import optimize\n",
    "%matplotlib inline"
   ]
  },
  {
   "cell_type": "markdown",
   "metadata": {},
   "source": [
    "The following code helps to calculate the equilibrium for the case with 3 firms. Note that you have seen similar code during the tutorials to calculate the equilibrium with 2 firms.\n",
    "\n",
    "We assume that before the merger each firm has constant marginal costs equal to 0.3. We assume a simple linear (inverse) demand curve of the form $p=1-Q$ where $p$ denotes price and $Q$ total output on the market. Total output equals the sum of each firm's output: $Q= q_1 + q_2+q_3$."
   ]
  },
  {
   "cell_type": "code",
   "execution_count": 3,
   "metadata": {
    "deletable": false,
    "editable": false,
    "nbgrader": {
     "checksum": "3e30f7ac9d9155ef089b8ca56a0c0436",
     "grade": false,
     "grade_id": "cell-f97a25efed556fd2",
     "locked": true,
     "schema_version": 1,
     "solution": false
    }
   },
   "outputs": [],
   "source": [
    "c0 = 0.3\n",
    "vector_c = [c0]*3\n",
    "\n",
    "def p(Q):\n",
    "    return 1 - Q\n",
    "\n",
    "def costs(q,c):\n",
    "    return c*q\n",
    "\n",
    "def profits(q,Q_other,c):\n",
    "    return p(q+Q_other)*q-costs(q,c)\n",
    "\n",
    "def reaction(Q_other,c):\n",
    "    q1 =  optimize.fminbound(lambda x: -profits(x,Q_other,c),0,1,full_output=1)\n",
    "    return q1[0]\n",
    "\n",
    "def fixed_point_three_firms(vector_q,vector_c):\n",
    "    return [vector_q[0]-reaction(vector_q[1]+vector_q[2],vector_c[0]),\n",
    "            vector_q[1]-reaction(vector_q[0]+vector_q[2],vector_c[1]),\n",
    "            vector_q[2]-reaction(vector_q[0]+vector_q[1],vector_c[2])]\n",
    "\n"
   ]
  },
  {
   "cell_type": "markdown",
   "metadata": {
    "deletable": false,
    "editable": false,
    "nbgrader": {
     "checksum": "f6ea3b2416aca7293a5450c45865f242",
     "grade": false,
     "grade_id": "cell-83284c4090d6de8c",
     "locked": true,
     "schema_version": 1,
     "solution": false
    }
   },
   "source": [
    "#### a) [0.5 points] Show that total equilibrium output equals  0.525. Derive the equilibrium price and Herfindahl index; denote these by `P0` and `H0` resp."
   ]
  },
  {
   "cell_type": "code",
   "execution_count": 4,
   "metadata": {
    "deletable": false,
    "nbgrader": {
     "checksum": "a06d73c35395adb00480733b458cb4a5",
     "grade": true,
     "grade_id": "cell-3b8ee172d9950128",
     "locked": false,
     "points": 0.5,
     "schema_version": 1,
     "solution": true
    }
   },
   "outputs": [
    {
     "data": {
      "text/plain": [
       "array([0.175, 0.175, 0.175])"
      ]
     },
     "execution_count": 4,
     "metadata": {},
     "output_type": "execute_result"
    }
   ],
   "source": [
    "array = [0.3,0.3,0.3]\n",
    "optimize.fsolve(lambda q: fixed_point_three_firms(q,[0.3,0.3,0.3]), array)\n"
   ]
  },
  {
   "cell_type": "code",
   "execution_count": 5,
   "metadata": {},
   "outputs": [
    {
     "name": "stdout",
     "output_type": "stream",
     "text": [
      "0.475\n",
      "0.3333333333333333\n"
     ]
    }
   ],
   "source": [
    "P0= 1-0.525\n",
    "H0= ((0.175/0.525)**2)*3\n",
    "print(P0)\n",
    "print(H0)\n"
   ]
  },
  {
   "cell_type": "markdown",
   "metadata": {},
   "source": [
    "#### Explanation:\n",
    "'Here I used optimize fsolve to find the production of each individual company (q1, q2 and q3). After doing that I filled in Q in the formula for P(Q). After this I filled in the formula for the Herfindahl Index which is, \n",
    "(percentige of market cortrol of compiny 1)^2*(percentige of market cortrol of compiny 2)^2+(percentige of market cortrol of compiny 1)^2*(percentige of market cortrol of compiny 3)^2\n",
    "and percentige of market cortrol of a company = q/Q'\n"
   ]
  },
  {
   "cell_type": "markdown",
   "metadata": {
    "deletable": false,
    "editable": false,
    "nbgrader": {
     "checksum": "87b3b3e0e2d645c280e279312e489dc4",
     "grade": false,
     "grade_id": "cell-4b33762aa4a601fe",
     "locked": true,
     "schema_version": 1,
     "solution": false
    }
   },
   "source": [
    "#### b) [0.5 point] Define a function `fixed_point_two_firms` with the same structure as the function `fixed_point_three_firms` above, except that it derives the equilibrium output levels for a duopoly (two firms). Test this function by showing that each of the two firms produces 0.3333 in case both firms have zero costs."
   ]
  },
  {
   "cell_type": "code",
   "execution_count": 6,
   "metadata": {
    "deletable": false,
    "nbgrader": {
     "checksum": "024a1519155d681b57c85292df535a65",
     "grade": true,
     "grade_id": "cell-5ee215676b91f504",
     "locked": false,
     "points": 0.5,
     "schema_version": 1,
     "solution": true
    }
   },
   "outputs": [
    {
     "data": {
      "text/plain": [
       "array([0.33333333, 0.33333333])"
      ]
     },
     "execution_count": 6,
     "metadata": {},
     "output_type": "execute_result"
    }
   ],
   "source": [
    "c0 = 0.3\n",
    "vector_c = [c0]*3\n",
    "\n",
    "def p(Q):\n",
    "    return 1 - Q\n",
    "\n",
    "def costs(q,c):\n",
    "    return 0\n",
    "\n",
    "def profits(q,Q_other,c):\n",
    "    return p(q+Q_other)*q-costs(q,c)\n",
    "\n",
    "def reaction(Q_other,c):\n",
    "    q1 =  optimize.fminbound(lambda x: -profits(x,Q_other,c),0,1,full_output=1)\n",
    "    return q1[0]\n",
    "\n",
    "def fixed_point_two_firms(vector_q,vector_c):\n",
    "    return [vector_q[0]-reaction(vector_q[1],vector_c[0]),\n",
    "            vector_q[1]-reaction(vector_q[0],vector_c[1]),]\n",
    "array = [0.3,0.3]\n",
    "optimize.fsolve(lambda q: fixed_point_two_firms(q,[0.3,0.3]), array)"
   ]
  },
  {
   "cell_type": "markdown",
   "metadata": {},
   "source": [
    "#### Explanation:\n",
    "'I copy pasted the original code where fixed_point_three_firms was defined and I changed it to show the desired results. I made costs equal to 0 and I removed the vector q[2]'\n"
   ]
  },
  {
   "cell_type": "markdown",
   "metadata": {
    "deletable": false,
    "editable": false,
    "nbgrader": {
     "checksum": "5291fc8716e367572fde17ebe5844d2f",
     "grade": false,
     "grade_id": "cell-c2fada02efd7b197",
     "locked": true,
     "schema_version": 1,
     "solution": false
    }
   },
   "source": [
    "The Dutch competition authority, ACM, is asked to evaluate the effects of a merger between firms 2 and 3. Firms 2 and 3 claim that by merging they can reduce their constant marginal costs. But it is not clear by how much they will reduce their costs.\n",
    "\n",
    "The ACM assumes that the marginal cost level of the merged firm is uniformly distributed between 0 and the current marginal cost level `c0`. The merger will not affect the marginal cost level of firm 1 who does not merge. Firm 1's cost level remains `c0`.\n",
    "\n",
    "The next cell generates a vector of cost levels for the merged firm, denoted `c_after_merger`. Evaluate \"c_after_merger\" in a separate cell if you do not understand the command that defines it.\n",
    "\n",
    "Then it calculates the equilibrium output levels for (the non-merging) firm 1 and (the merged) firm 2.\n",
    "\n",
    "Note that you need to specify `initial_guess`.\n"
   ]
  },
  {
   "cell_type": "code",
   "execution_count": 7,
   "metadata": {},
   "outputs": [],
   "source": [
    "initial_guess = [0,0]\n",
    "def costs(q,c):\n",
    "    return c*q"
   ]
  },
  {
   "cell_type": "code",
   "execution_count": 8,
   "metadata": {
    "deletable": false,
    "editable": false,
    "nbgrader": {
     "checksum": "11299317cd53e31de9900700999b0324",
     "grade": false,
     "grade_id": "cell-ce91ab3e3225c57d",
     "locked": true,
     "schema_version": 1,
     "solution": false
    }
   },
   "outputs": [],
   "source": [
    "c_after_merger = np.random.uniform(0,c0,size = 100)\n",
    "\n",
    "q1_after_merger = [optimize.fsolve(lambda q: fixed_point_two_firms(q,[c0,c]), initial_guess)[0] for c in c_after_merger]\n",
    "q2_after_merger = [optimize.fsolve(lambda q: fixed_point_two_firms(q,[c0,c]), initial_guess)[1] for c in c_after_merger]\n",
    "\n",
    "\n"
   ]
  },
  {
   "cell_type": "markdown",
   "metadata": {
    "deletable": false,
    "editable": false,
    "nbgrader": {
     "checksum": "2b518306d6ff20ee42d0bc3085333095",
     "grade": false,
     "grade_id": "cell-0acc18b4f07a09f4",
     "locked": true,
     "schema_version": 1,
     "solution": false
    }
   },
   "source": [
    "#### c) [0.5 points] Create a dataframe called `df_after_merger` with three columns: `c_merged_firm`, `output_non_merging_firm`, `output_merged_firm` containing resp. the cost level of the merged firm, the output level of firm 1 and the output level of firm 2."
   ]
  },
  {
   "cell_type": "code",
   "execution_count": 9,
   "metadata": {
    "deletable": false,
    "nbgrader": {
     "checksum": "f4fc6a3bdef91fa3f656ccd3290c9f54",
     "grade": true,
     "grade_id": "cell-f3eacda828774f2d",
     "locked": false,
     "points": 0.5,
     "schema_version": 1,
     "solution": true
    }
   },
   "outputs": [
    {
     "data": {
      "text/html": [
       "<div>\n",
       "<style scoped>\n",
       "    .dataframe tbody tr th:only-of-type {\n",
       "        vertical-align: middle;\n",
       "    }\n",
       "\n",
       "    .dataframe tbody tr th {\n",
       "        vertical-align: top;\n",
       "    }\n",
       "\n",
       "    .dataframe thead th {\n",
       "        text-align: right;\n",
       "    }\n",
       "</style>\n",
       "<table border=\"1\" class=\"dataframe\">\n",
       "  <thead>\n",
       "    <tr style=\"text-align: right;\">\n",
       "      <th></th>\n",
       "      <th>c_merged_firm</th>\n",
       "      <th>output_non_merging_firm</th>\n",
       "      <th>output_merged_firm</th>\n",
       "    </tr>\n",
       "  </thead>\n",
       "  <tbody>\n",
       "    <tr>\n",
       "      <th>0</th>\n",
       "      <td>0.233039</td>\n",
       "      <td>0.211013</td>\n",
       "      <td>0.277974</td>\n",
       "    </tr>\n",
       "    <tr>\n",
       "      <th>1</th>\n",
       "      <td>0.200742</td>\n",
       "      <td>0.200247</td>\n",
       "      <td>0.299505</td>\n",
       "    </tr>\n",
       "    <tr>\n",
       "      <th>2</th>\n",
       "      <td>0.277252</td>\n",
       "      <td>0.225751</td>\n",
       "      <td>0.248499</td>\n",
       "    </tr>\n",
       "    <tr>\n",
       "      <th>3</th>\n",
       "      <td>0.182738</td>\n",
       "      <td>0.194246</td>\n",
       "      <td>0.311508</td>\n",
       "    </tr>\n",
       "    <tr>\n",
       "      <th>4</th>\n",
       "      <td>0.060326</td>\n",
       "      <td>0.153442</td>\n",
       "      <td>0.393116</td>\n",
       "    </tr>\n",
       "  </tbody>\n",
       "</table>\n",
       "</div>"
      ],
      "text/plain": [
       "   c_merged_firm  output_non_merging_firm  output_merged_firm\n",
       "0       0.233039                 0.211013            0.277974\n",
       "1       0.200742                 0.200247            0.299505\n",
       "2       0.277252                 0.225751            0.248499\n",
       "3       0.182738                 0.194246            0.311508\n",
       "4       0.060326                 0.153442            0.393116"
      ]
     },
     "execution_count": 9,
     "metadata": {},
     "output_type": "execute_result"
    }
   ],
   "source": [
    "data = {'c_merged_firm' : c_after_merger, 'output_non_merging_firm' : q1_after_merger, 'output_merged_firm' : q2_after_merger}\n",
    "df_after_merger = pd.DataFrame(data, columns=['c_merged_firm','output_non_merging_firm','output_merged_firm'])\n",
    "\n",
    "df_after_merger.head()"
   ]
  },
  {
   "cell_type": "markdown",
   "metadata": {},
   "source": [
    "#### Explanation:\n",
    "first I define initial_guess and redefine costs to its original defenition so costs are nolonger 0.\n",
    "Then I set up my dataset and head it to see if things went as they should."
   ]
  },
  {
   "cell_type": "markdown",
   "metadata": {
    "deletable": false,
    "editable": false,
    "nbgrader": {
     "checksum": "a5bf4171960844da9c57375d83b6eedf",
     "grade": false,
     "grade_id": "cell-7ad058be42e19df8",
     "locked": true,
     "schema_version": 1,
     "solution": false
    }
   },
   "source": [
    "#### d) [0.5 points] Add three columns to the dataframe with resp. total equilibrium output on the market, `Q`, equilibrium price, `P` and the Herfindahl index, `H`."
   ]
  },
  {
   "cell_type": "code",
   "execution_count": 10,
   "metadata": {
    "deletable": false,
    "nbgrader": {
     "checksum": "ab6179623b39a6ae634abea45326e4ab",
     "grade": true,
     "grade_id": "cell-9c39b11747803ca1",
     "locked": false,
     "points": 0.5,
     "schema_version": 1,
     "solution": true
    }
   },
   "outputs": [
    {
     "data": {
      "text/html": [
       "<div>\n",
       "<style scoped>\n",
       "    .dataframe tbody tr th:only-of-type {\n",
       "        vertical-align: middle;\n",
       "    }\n",
       "\n",
       "    .dataframe tbody tr th {\n",
       "        vertical-align: top;\n",
       "    }\n",
       "\n",
       "    .dataframe thead th {\n",
       "        text-align: right;\n",
       "    }\n",
       "</style>\n",
       "<table border=\"1\" class=\"dataframe\">\n",
       "  <thead>\n",
       "    <tr style=\"text-align: right;\">\n",
       "      <th></th>\n",
       "      <th>c_merged_firm</th>\n",
       "      <th>output_non_merging_firm</th>\n",
       "      <th>output_merged_firm</th>\n",
       "      <th>Q</th>\n",
       "      <th>P</th>\n",
       "      <th>H</th>\n",
       "    </tr>\n",
       "  </thead>\n",
       "  <tbody>\n",
       "    <tr>\n",
       "      <th>0</th>\n",
       "      <td>0.233039</td>\n",
       "      <td>0.211013</td>\n",
       "      <td>0.277974</td>\n",
       "      <td>0.488987</td>\n",
       "      <td>0.511013</td>\n",
       "      <td>0.509376</td>\n",
       "    </tr>\n",
       "    <tr>\n",
       "      <th>1</th>\n",
       "      <td>0.200742</td>\n",
       "      <td>0.200247</td>\n",
       "      <td>0.299505</td>\n",
       "      <td>0.499753</td>\n",
       "      <td>0.500247</td>\n",
       "      <td>0.519724</td>\n",
       "    </tr>\n",
       "    <tr>\n",
       "      <th>2</th>\n",
       "      <td>0.277252</td>\n",
       "      <td>0.225751</td>\n",
       "      <td>0.248499</td>\n",
       "      <td>0.474249</td>\n",
       "      <td>0.525751</td>\n",
       "      <td>0.501150</td>\n",
       "    </tr>\n",
       "    <tr>\n",
       "      <th>3</th>\n",
       "      <td>0.182738</td>\n",
       "      <td>0.194246</td>\n",
       "      <td>0.311508</td>\n",
       "      <td>0.505754</td>\n",
       "      <td>0.494246</td>\n",
       "      <td>0.526878</td>\n",
       "    </tr>\n",
       "    <tr>\n",
       "      <th>4</th>\n",
       "      <td>0.060326</td>\n",
       "      <td>0.153442</td>\n",
       "      <td>0.393116</td>\n",
       "      <td>0.546558</td>\n",
       "      <td>0.453442</td>\n",
       "      <td>0.596148</td>\n",
       "    </tr>\n",
       "  </tbody>\n",
       "</table>\n",
       "</div>"
      ],
      "text/plain": [
       "   c_merged_firm  output_non_merging_firm  output_merged_firm         Q  \\\n",
       "0       0.233039                 0.211013            0.277974  0.488987   \n",
       "1       0.200742                 0.200247            0.299505  0.499753   \n",
       "2       0.277252                 0.225751            0.248499  0.474249   \n",
       "3       0.182738                 0.194246            0.311508  0.505754   \n",
       "4       0.060326                 0.153442            0.393116  0.546558   \n",
       "\n",
       "          P         H  \n",
       "0  0.511013  0.509376  \n",
       "1  0.500247  0.519724  \n",
       "2  0.525751  0.501150  \n",
       "3  0.494246  0.526878  \n",
       "4  0.453442  0.596148  "
      ]
     },
     "execution_count": 10,
     "metadata": {},
     "output_type": "execute_result"
    }
   ],
   "source": [
    "df_after_merger['Q']= df_after_merger['output_non_merging_firm']+df_after_merger['output_merged_firm']\n",
    "df_after_merger['P']= 1-df_after_merger['Q']\n",
    "df_after_merger['H']= (df_after_merger['output_non_merging_firm']/df_after_merger['Q'])**2+(df_after_merger['output_merged_firm']/df_after_merger['Q'])**2\n",
    "df_after_merger.head()"
   ]
  },
  {
   "cell_type": "markdown",
   "metadata": {},
   "source": [
    "#### Explanation:\n",
    "I defined the collums Q,P and H and added them to the dataframe."
   ]
  },
  {
   "cell_type": "markdown",
   "metadata": {},
   "source": [
    "#### e) [0.5 points] Make a histogram of the equilibrium price `P` after the merger. Also indicate in the histogram the equilibrium price before the merger `P0`. Label the horizontal axis with $P$.\n",
    "\n",
    "[hint: you may want to use matplotlib's `hist`, `vlines` and `legend` to make this graph (e.g use google to find these functions); but feel free to use something else]"
   ]
  },
  {
   "cell_type": "code",
   "execution_count": 11,
   "metadata": {
    "deletable": false,
    "nbgrader": {
     "checksum": "b103cd98545261b20f937f4b9db67f68",
     "grade": true,
     "grade_id": "cell-f9193bf8e71f1a9a",
     "locked": false,
     "points": 0.5,
     "schema_version": 1,
     "solution": true
    }
   },
   "outputs": [
    {
     "data": {
      "image/png": "[encoded data removed]",
      "text/plain": [
       "<matplotlib.figure.Figure at 0x1a5a7d5fc18>"
      ]
     },
     "metadata": {},
     "output_type": "display_data"
    }
   ],
   "source": [
    "plt.hist(df_after_merger['P'])\n",
    "plt.xlabel('P')\n",
    "plt.ylabel('H')\n",
    "plt.vlines(P0,0,1,color='r',linestyles='solid')\n",
    "plt.show()"
   ]
  },
  {
   "cell_type": "markdown",
   "metadata": {},
   "source": [
    "#### Explanation:\n",
    "I ploted the histogram labled it and added P0 as a small red line on P=0.475 (P0 being the equalibrium price defined earlier)"
   ]
  },
  {
   "cell_type": "markdown",
   "metadata": {},
   "source": [
    "#### f) [0.5 points] Explain why sometimes the equilibrium price after the merger exceeds the equilibrium price before the merger and sometimes it is lower than the pre-merger price. [hint: there is a trade off between two effects, depending on which effect dominates, equilibrium price increases or decreases after the merger]"
   ]
  },
  {
   "cell_type": "markdown",
   "metadata": {
    "deletable": false,
    "nbgrader": {
     "checksum": "dd9fc721b7cf7f66587e93cbfb758034",
     "grade": true,
     "grade_id": "cell-7a1f367cd2854156",
     "locked": false,
     "points": 0.5,
     "schema_version": 1,
     "solution": true
    }
   },
   "source": [
    "### Answer\n",
    "The price depends on the supply which in turn depends on the marginal cost of the merged firm. if the marginal cost of the merged firm is reletively low Q will be higher than in the original equalibrium and thus if this happens the price will be lower than P0after the merger. if the Margenal cost of the merged firm is reletively high Q will be lower than in the original equalibrium and thus if this happens the price will be higher than P0 after the merger."
   ]
  },
  {
   "cell_type": "markdown",
   "metadata": {
    "deletable": false,
    "editable": false,
    "nbgrader": {
     "checksum": "e1e41dbf14c605bf91cdc78f70eada99",
     "grade": false,
     "grade_id": "cell-06ed6044f8938a45",
     "locked": true,
     "schema_version": 1,
     "solution": false
    }
   },
   "source": [
    "#### g) [0.5 points] Make a graph with the Herfindahl index on the horizontal axis and the equilibrium price on the vertical axis. This is straightforward for $(H,P)$ after the merger as both values are in the dataframe. Add in another color, the pre-merger combination `(H0,P0)` that we calculated above."
   ]
  },
  {
   "cell_type": "code",
   "execution_count": 12,
   "metadata": {
    "deletable": false,
    "nbgrader": {
     "checksum": "51cfaacbaf533e85d9794bc74712afd5",
     "grade": true,
     "grade_id": "cell-d647464d04870b73",
     "locked": false,
     "points": 0.5,
     "schema_version": 1,
     "solution": true
    }
   },
   "outputs": [
    {
     "data": {
      "text/plain": [
       "Text(0,0.5,'H')"
      ]
     },
     "execution_count": 12,
     "metadata": {},
     "output_type": "execute_result"
    },
    {
     "data": {
      "image/png": "[encoded data removed]",
      "text/plain": [
       "<matplotlib.figure.Figure at 0x1a5a7f3f5f8>"
      ]
     },
     "metadata": {},
     "output_type": "display_data"
    }
   ],
   "source": [
    "plt.plot(df_after_merger['H'],df_after_merger['P'])\n",
    "plt.xlabel('P')\n",
    "plt.ylabel('H')"
   ]
  },
  {
   "cell_type": "markdown",
   "metadata": {},
   "source": [
    "#### Explanation:\n",
    "I simply made a plot of P and H"
   ]
  },
  {
   "cell_type": "markdown",
   "metadata": {
    "deletable": false,
    "editable": false,
    "nbgrader": {
     "checksum": "11b6609131b1c25886f2c6cafe0f7a59",
     "grade": false,
     "grade_id": "cell-5c5e5776a7c135a2",
     "locked": true,
     "schema_version": 1,
     "solution": false
    }
   },
   "source": [
    "#### h) [0.5 points] Use the graph under g) to discuss the relation between the Herfindahl index and the equilibrium price. To illustrate, some people think that lower values of the Herfindahl index are associated with more competitive outcome. Would you agree with this?"
   ]
  },
  {
   "cell_type": "markdown",
   "metadata": {
    "collapsed": true,
    "deletable": false,
    "nbgrader": {
     "checksum": "3d396887dde3b00420c623b9f4ea8ed2",
     "grade": true,
     "grade_id": "cell-cbd89d483b23a953",
     "locked": false,
     "points": 0.5,
     "schema_version": 1,
     "solution": true
    }
   },
   "source": [
    "### Answer\n",
    "There is a negative relation between the Herfindahl index and the equilibrium price. This means that the higher one of them is the lower the other. \n",
    "This means that the people who think that lower values of the Herfindahl index are associated with more competitive outcome and thus a lower equilibrium price are wrong. The higher the Herfindahl index the lower prices and thus the more competetive the market. The reason for this is that the more competition there is in a market the lower prices tend to be as that is one of the things many people compete over."
   ]
  },
  {
   "cell_type": "markdown",
   "metadata": {},
   "source": [
    "## Github\n",
    "\n",
    "After you have finished, we need to upload this notebook on github. Make sure that you upload the file on the github page of each collaborator."
   ]
  },
  {
   "cell_type": "markdown",
   "metadata": {},
   "source": [
    "Instructions on how to upload this on github can be found [on this page](http://janboone.github.io/programming-for-economists/github.html). This page has two screencasts: one shows how to drag the notebook onto your github page, the other shows how you can use the command line to upload your notebook.\n"
   ]
  },
  {
   "cell_type": "markdown",
   "metadata": {},
   "source": [
    "Remember to update the README file in your repository to include a link to this notebook on github.\n",
    "\n",
    "\n",
    "The links that you should post start with “github.com/” and are NOT of the form “http://localhost”. Make sure you test your links after uploading."
   ]
  }
 ],
 "metadata": {
  "anaconda-cloud": {},
  "kernelspec": {
   "display_name": "Python 3",
   "language": "python",
   "name": "python3"
  },
  "language_info": {
   "codemirror_mode": {
    "name": "ipython",
    "version": 3
   },
   "file_extension": ".py",
   "mimetype": "text/x-python",
   "name": "python",
   "nbconvert_exporter": "python",
   "pygments_lexer": "ipython3",
   "version": "3.6.4"
  }
 },
 "nbformat": 4,
 "nbformat_minor": 1
}
